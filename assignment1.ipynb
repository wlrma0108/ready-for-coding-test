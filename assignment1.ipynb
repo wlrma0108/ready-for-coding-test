{
 "cells": [
  {
   "cell_type": "code",
   "execution_count": null,
   "id": "c5161b84",
   "metadata": {},
   "outputs": [],
   "source": [
    "# Assignment 1: 파이썬의 기본적인 문법으로 데이터 중복 처리를 위한 간단한 함수를 만들고, 딕셔너리를 활용하여 그래프의 연결 정보를 저장해보자.\n",
    "# 데이터 중복 처리를 위한 간단한 함수를 만들어 보자. \n",
    "def remove_duplicate(list_a):   \n",
    "    s_a = list_a\n",
    "    for i in range (len(s_a)-1):\n",
    "        if i >= len(s_a)-1:\n",
    "            break\n",
    "\n",
    "\n",
    "        if s_a [i] == s_a[i+1]:\n",
    "            s_a.remove(s_a[i])\n",
    "            print(\"remove\", s_a[i])\n",
    "\n",
    "\n",
    "    remove_list_a = s_a\n",
    "\n",
    "    return remove_list_a"
   ]
  },
  {
   "cell_type": "code",
   "execution_count": 72,
   "id": "7b89160e",
   "metadata": {},
   "outputs": [],
   "source": [
    "def remove_duplicate(list_a):   \n",
    "    s_a = list_a\n",
    "    s_a = list(set(s_a))\n",
    "\n",
    "\n",
    "    remove_list_a = s_a\n",
    "\n",
    "    return remove_list_a"
   ]
  },
  {
   "cell_type": "code",
   "execution_count": 73,
   "id": "d04571f3",
   "metadata": {},
   "outputs": [
    {
     "name": "stdout",
     "output_type": "stream",
     "text": [
      "[1, 1, 2, 2, 2, 3, 3, 3, 3]\n",
      "[1, 2, 3]\n"
     ]
    }
   ],
   "source": [
    "a = [1, 1, 2, 2, 2, 3, 3, 3, 3]\n",
    "print(a)\n",
    "remove_a = remove_duplicate(a)\n",
    "print(remove_a)"
   ]
  },
  {
   "cell_type": "code",
   "execution_count": 46,
   "id": "42e0b74d",
   "metadata": {},
   "outputs": [
    {
     "name": "stdout",
     "output_type": "stream",
     "text": [
      "{'A': [], 'B': [], 'C': [], 'D': []}\n"
     ]
    }
   ],
   "source": [
    "# 방향 그래프에서 각 노드들과 연결된 노드들에 대한 정보가 저장되는 딕셔너리를 생성해보자.\n",
    "initial_nodes = ['A', 'B', 'C', 'D']\n",
    "neighbor_nodes = [[], [], [], []]\n",
    "\n",
    "my_dict = dict(zip(initial_nodes, neighbor_nodes))\n",
    "print(my_dict)"
   ]
  },
  {
   "cell_type": "code",
   "execution_count": 47,
   "id": "ba525afc",
   "metadata": {},
   "outputs": [],
   "source": [
    "edge_info = [['A', 'B'], ['A', 'C'], ['B', 'D'], ['C', 'D']]"
   ]
  },
  {
   "cell_type": "code",
   "execution_count": 48,
   "id": "83fcd9a8",
   "metadata": {},
   "outputs": [
    {
     "name": "stdout",
     "output_type": "stream",
     "text": [
      "{'A': ['B', 'C'], 'B': ['D'], 'C': ['D'], 'D': []}\n"
     ]
    }
   ],
   "source": [
    "for edge in edge_info:\n",
    "    # 딕셔너리에 Key로 edge의 첫 번째 원소를, Value로 edge로 두 번째 원소를 추가해보자. 이때 Value는 List에 추가를 해야한다는 점을 유의하자.\n",
    "    my_dict[edge[0]].append(edge[1])\n",
    "print(my_dict)"
   ]
  },
  {
   "cell_type": "code",
   "execution_count": null,
   "id": "3e4f8adb",
   "metadata": {},
   "outputs": [],
   "source": []
  }
 ],
 "metadata": {
  "kernelspec": {
   "display_name": "base",
   "language": "python",
   "name": "python3"
  },
  "language_info": {
   "codemirror_mode": {
    "name": "ipython",
    "version": 3
   },
   "file_extension": ".py",
   "mimetype": "text/x-python",
   "name": "python",
   "nbconvert_exporter": "python",
   "pygments_lexer": "ipython3",
   "version": "3.12.7"
  }
 },
 "nbformat": 4,
 "nbformat_minor": 5
}
